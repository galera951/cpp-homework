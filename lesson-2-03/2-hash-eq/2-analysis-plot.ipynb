{
 "cells": [
  {
   "cell_type": "code",
   "execution_count": 2,
   "id": "79dbda1b-fc50-4788-a837-dd0da784796a",
   "metadata": {
    "tags": []
   },
   "outputs": [],
   "source": [
    "# %load /home/glebi/git/experiment-automation/processing_tools.py\n",
    "import numpy as np\n",
    "from scipy.optimize import curve_fit\n",
    "import pandas as pd\n",
    "\n",
    "import matplotlib.pyplot as plt\n",
    "import matplotlib\n",
    "import scienceplots\n",
    "\n",
    "plt.style.use(['science', 'russian-font'])\n",
    "\n",
    "matplotlib.rcParams.update({\n",
    "    'figure.figsize': [6, 4],\n",
    "    'savefig.facecolor': 'white',\n",
    "    'figure.dpi': 150.0,\n",
    "    'font.size': 12.0,\n",
    "})"
   ]
  },
  {
   "cell_type": "code",
   "execution_count": null,
   "id": "213dda3e-2198-4218-9c5b-cc36e66c2947",
   "metadata": {},
   "outputs": [],
   "source": []
  }
 ],
 "metadata": {
  "kernelspec": {
   "display_name": "Python 3 (ipykernel)",
   "language": "python",
   "name": "python3"
  },
  "language_info": {
   "codemirror_mode": {
    "name": "ipython",
    "version": 3
   },
   "file_extension": ".py",
   "mimetype": "text/x-python",
   "name": "python",
   "nbconvert_exporter": "python",
   "pygments_lexer": "ipython3",
   "version": "3.10.6"
  }
 },
 "nbformat": 4,
 "nbformat_minor": 5
}
